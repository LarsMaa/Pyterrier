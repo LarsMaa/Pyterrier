{
 "cells": [
  {
   "cell_type": "code",
   "execution_count": 1,
   "id": "305fc1ca-ea3c-4456-bd8a-5b4e844743ac",
   "metadata": {},
   "outputs": [
    {
     "name": "stdout",
     "output_type": "stream",
     "text": [
      "Done\n"
     ]
    }
   ],
   "source": [
    "import pandas as pd\n",
    "from sqlalchemy import create_engine\n",
    "import psycopg2  \n",
    "import pyterrier as pt\n",
    "import os\n",
    "import numpy as np\n",
    "import gc\n",
    "\n",
    "print(\"Done\")"
   ]
  },
  {
   "cell_type": "code",
   "execution_count": 2,
   "id": "9a0326af-3b1f-4d2d-9137-83da905c7956",
   "metadata": {},
   "outputs": [
    {
     "name": "stderr",
     "output_type": "stream",
     "text": [
      "/tmp/ipykernel_517996/1499247338.py:2: DeprecationWarning: Call to deprecated function (or staticmethod) started. (use pt.java.started() instead) -- Deprecated since version 0.11.0.\n",
      "  if not pt.started():\n"
     ]
    },
    {
     "name": "stdout",
     "output_type": "stream",
     "text": [
      "Done\n"
     ]
    },
    {
     "name": "stderr",
     "output_type": "stream",
     "text": [
      "Java started and loaded: pyterrier.java, pyterrier.terrier.java [version=5.11 (build: craig.macdonald 2025-01-13 21:29), helper_version=0.0.8]\n"
     ]
    }
   ],
   "source": [
    "\n",
    "# --- PyTerrier Initialisierung ---\n",
    "if not pt.started():\n",
    "    pt.java.init()\n",
    "print(\"Done\")"
   ]
  },
  {
   "cell_type": "code",
   "execution_count": 3,
   "id": "ff885d59-921b-497f-9b32-a78c2c51d24b",
   "metadata": {},
   "outputs": [
    {
     "name": "stdout",
     "output_type": "stream",
     "text": [
      "Datenbankverbindung erfolgreich.\n",
      "Done\n"
     ]
    }
   ],
   "source": [
    "# --- Datenbankverbindung ---\n",
    "DATABASE = \"longeval-web\"\n",
    "USER = \"dis18\"\n",
    "HOST = \"db\"\n",
    "PORT = \"5432\"\n",
    "PASSWORD = os.getenv(\"DB_PASSWORD\", \"dis182425\")  \n",
    "\n",
    "try:\n",
    "    engine = create_engine(f\"postgresql+psycopg2://{USER}:{PASSWORD}@{HOST}:{PORT}/{DATABASE}\")\n",
    "    with engine.begin() as connection:\n",
    "        print(\"Datenbankverbindung erfolgreich.\")\n",
    "except Exception as e:\n",
    "    print(f\"Fehler bei DB-Verbindung: {e}\")\n",
    "    exit()\n",
    "print(\"Done\")"
   ]
  },
  {
   "cell_type": "code",
   "execution_count": 4,
   "id": "2b60c6c0-2981-405e-8518-ceec3e3d0c90",
   "metadata": {},
   "outputs": [],
   "source": [
    "import pandas as pd\n",
    "from sqlalchemy import create_engine\n",
    "\n",
    "DATABASE = \"longeval-web\"\n",
    "USER = \"dis18\"\n",
    "HOST = \"db\"\n",
    "PORT = \"5432\"\n",
    "PASSWORD = \"dis182425\"\n",
    "\n",
    "engine = create_engine(f\"postgresql+psycopg2://{USER}:{PASSWORD}@{HOST}:{PORT}/{DATABASE}\")"
   ]
  },
  {
   "cell_type": "code",
   "execution_count": 5,
   "id": "ffa81296-59fd-4671-b996-7e7562175757",
   "metadata": {},
   "outputs": [
    {
     "name": "stdout",
     "output_type": "stream",
     "text": [
      "      quer_id                                 query sub_collection\n",
      "0          67                      amygdale cerveau        2023-08\n",
      "1           3                  1ere guerre mondiale        2023-08\n",
      "2           8              4 mariages 1 enterrement        2023-08\n",
      "3          12                          abri voiture        2023-08\n",
      "4          18              acheter voiture occasion        2023-08\n",
      "...       ...                                   ...            ...\n",
      "12933   75421         domaine de chaumont sur loire        2023-08\n",
      "12934   75422  restaurant l ile issy les moulineaux        2023-08\n",
      "12935   75423                      cateau cambresis        2023-08\n",
      "12936   75424                    filet anti oiseaux        2023-08\n",
      "12937   75425                     petit chauffe eau        2023-08\n",
      "\n",
      "[12938 rows x 3 columns]\n",
      "Empty DataFrame\n",
      "Columns: [relevance, quer_id, doc_id]\n",
      "Index: []\n",
      "                                                       url      doc_id\n",
      "0        https://www.fnutopia.com.au/wbresources/files/...  doc2017081\n",
      "1        https://www.spec-net.com.au/press/0514/pyr_280...  doc3195655\n",
      "2        http://www.demandezleprogramme.be/spip.php?id_...  doc2957748\n",
      "3        https://www.canadafrancais.com/actualite/un-pr...  doc1935816\n",
      "4        https://www.delightfulrepast.com/2011/03/veget...  doc2261817\n",
      "...                                                    ...         ...\n",
      "2537007  https://www.agglod.ch/Htdocs/Files/v/6147.pdf/...  doc2337037\n",
      "2537008  http://www.klub-beskid.com/phorum/read.php?5,2...  doc1585966\n",
      "2537009  https://www.portland-hotels.info/fr/near-jamis...  doc2114950\n",
      "2537010  https://temps-cuisson.fr/recette/blanquette-de...  doc1640500\n",
      "2537011  http://www.fafaploufaroundtheworld.com/2008/04...   doc128214\n",
      "\n",
      "[2537012 rows x 2 columns]\n",
      "             docid  Anzahl_Vorkommen\n",
      "0             doc1                 1\n",
      "1            doc10                14\n",
      "2           doc100                 4\n",
      "3          doc1000                14\n",
      "4         doc10000                 2\n",
      "...            ...               ...\n",
      "3550129  doc999995                 2\n",
      "3550130  doc999996                 6\n",
      "3550131  doc999997                 6\n",
      "3550132  doc999998                 4\n",
      "3550133  doc999999                 3\n",
      "\n",
      "[3550134 rows x 2 columns]\n",
      "Done\n",
      "Einzigartige quer_id in df_qrel: 0\n"
     ]
    }
   ],
   "source": [
    "\n",
    "# --- SQL Queries ---\n",
    "query_topic = \"\"\"\n",
    "SELECT \n",
    "    \"Topic\".\"queryid\" AS quer_id,    \n",
    "    \"Topic\".\"text_fr\" AS query,\n",
    "    \"sub_collection\" \n",
    "FROM \"Topic\"\n",
    "WHERE \"sub_collection\" = '2023-08';\n",
    "\"\"\"\n",
    "#('2023-03')\n",
    "query_qrel = \"\"\"\n",
    "SELECT DISTINCT\n",
    "    \"Qrel\".\"relevance\" AS relevance,\n",
    "    \"queryid\" as quer_id,\n",
    "    \"docid\" as doc_id\n",
    "    \n",
    "from \"Qrel\"\n",
    "WHERE \"sub_collection\" = '2023-08';\n",
    "\n",
    "\n",
    "\"\"\"\n",
    "\n",
    "query_document = \"\"\"\n",
    "SELECT \n",
    "    \"Document\".\"url\" AS url,\n",
    "    \"docid\" as doc_id\n",
    "from \"Document\"\n",
    "WHERE \"sub_collection\" IN ('2023-08');\n",
    "\"\"\"\n",
    "\n",
    "query_vorkommen = \"\"\"\n",
    "WITH doc_counts AS (\n",
    "    SELECT\n",
    "        \"docid\",\n",
    "        COUNT(*) AS \"Anzahl_Vorkommen\"\n",
    "    FROM \"Document\"\n",
    "    WHERE \"sub_collection\" IN (\n",
    "        '2022-06', '2022-07', '2022-08', '2022-09', '2022-10', '2022-11', '2022-12',\n",
    "        '2023-01', '2023-02', '2023-03', '2023-04', '2023-05', '2023-06', '2023-07',\n",
    "        '2023-08'\n",
    "    )\n",
    "    GROUP BY \"docid\"\n",
    ")\n",
    "SELECT\n",
    "    \"docid\",\n",
    "    \"Anzahl_Vorkommen\"\n",
    "FROM doc_counts;\n",
    "\"\"\"\n",
    "\n",
    "\n",
    "df_topic = pd.read_sql(query_topic, con=engine)\n",
    "df_qrel = pd.read_sql(query_qrel, con=engine)\n",
    "df_document = pd.read_sql(query_document, con=engine)\n",
    "df_vorkommen = pd.read_sql(query_vorkommen, con=engine)\n",
    "\n",
    "print(df_topic)\n",
    "print(df_qrel)\n",
    "print(df_document)\n",
    "print(df_vorkommen)\n",
    "print(\"Done\")\n",
    "# Anzahl eindeutiger Queries in den Qrels\n",
    "num_qrels = df_qrel['quer_id'].nunique()\n",
    "print(f\"Einzigartige quer_id in df_qrel: {num_qrels}\")\n",
    "\n"
   ]
  },
  {
   "cell_type": "code",
   "execution_count": 6,
   "id": "cc821b1c-c916-4aaa-a422-3ab78d161535",
   "metadata": {},
   "outputs": [
    {
     "name": "stdout",
     "output_type": "stream",
     "text": [
      "            qid    docno  rank      score       name\n",
      "0             3   684186     0  25.872507  pyterrier\n",
      "1             3  2911357     1  25.872507  pyterrier\n",
      "2             3  1686452     2  25.678216  pyterrier\n",
      "3             3   430968     3  25.430486  pyterrier\n",
      "4             3   658038     4  25.393302  pyterrier\n",
      "...         ...      ...   ...        ...        ...\n",
      "12583460  75425  1737432   995  18.909800  pyterrier\n",
      "12583461  75425  1739913   996  18.909800  pyterrier\n",
      "12583462  75425  3088634   997  18.909800  pyterrier\n",
      "12583463  75425  2983643   998  18.909800  pyterrier\n",
      "12583464  75425  2981689   999  18.909800  pyterrier\n",
      "\n",
      "[12583465 rows x 5 columns]\n",
      "Einzigartige quer_id in bm_df: 12865\n",
      "Done\n"
     ]
    }
   ],
   "source": [
    "# --- BM25 Daten laden ---\n",
    "\n",
    "bm25_file = \"datasets/LongEval-Web/runs/longeval-web-fr-2023-08-BM25.gz\"\n",
    "bm_df = pt.io.read_results(bm25_file)\n",
    "print(bm_df)\n",
    "num_bm = bm_df['qid'].nunique()\n",
    "print(f\"Einzigartige quer_id in bm_df: {num_bm}\")\n",
    "\n",
    "print('Done')\n",
    "\n",
    "\n"
   ]
  },
  {
   "cell_type": "code",
   "execution_count": 7,
   "id": "d04b7716-eeca-4a4f-b95f-44173930c9a3",
   "metadata": {},
   "outputs": [
    {
     "name": "stdout",
     "output_type": "stream",
     "text": [
      "Done\n"
     ]
    }
   ],
   "source": [
    "# --- Hilfsfunktion zur Speicheroptimierung bm_df ---\n",
    "def optimize_df_types(df: pd.DataFrame) -> pd.DataFrame:\n",
    "    \"\"\"Optimizes DataFrame types in-place for memory.\"\"\"\n",
    "    for col in df.columns:\n",
    "        col_type = df[col].dtype\n",
    "        try:\n",
    "            if col_type == 'float64':\n",
    "                df[col] = df[col].astype(np.float32)\n",
    "            elif col_type == 'int64':\n",
    "                df[col] = pd.to_numeric(df[col], downcast='integer')\n",
    "            elif col_type == 'object' and df[col].nunique() / len(df) < 0.5:\n",
    "                 df[col] = df[col].astype('category')\n",
    "        except Exception as e:\n",
    "             # Optional: minimal error print if needed\n",
    "             # print(f\"Skipping {col}: {e}\")\n",
    "             pass # Ignore errors to keep it short\n",
    "    return df\n",
    "\n",
    "list_of_dfs = [bm_df]\n",
    "optimized_list = [optimize_df_types(df) for df in list_of_dfs]\n",
    "print(\"Done\")"
   ]
  },
  {
   "cell_type": "code",
   "execution_count": 8,
   "id": "7afc8441-1f38-4a29-9dcc-85148acb856e",
   "metadata": {},
   "outputs": [
    {
     "name": "stdout",
     "output_type": "stream",
     "text": [
      "Done\n"
     ]
    }
   ],
   "source": [
    "# --- Hilfsfunktion zur Speicheroptimierung ---\n",
    "def optimize_df_types(df: pd.DataFrame) -> pd.DataFrame:\n",
    "    \"\"\"Optimizes DataFrame types in-place for memory.\"\"\"\n",
    "    for col in df.columns:\n",
    "        col_type = df[col].dtype\n",
    "        try:\n",
    "            if col_type == 'float64':\n",
    "                df[col] = df[col].astype(np.float32)\n",
    "            elif col_type == 'int64':\n",
    "                df[col] = pd.to_numeric(df[col], downcast='integer')\n",
    "            elif col_type == 'object' and df[col].nunique() / len(df) < 0.5:\n",
    "                 df[col] = df[col].astype('category')\n",
    "        except Exception as e:\n",
    "             # Optional: minimal error print if needed\n",
    "             # print(f\"Skipping {col}: {e}\")\n",
    "             pass # Ignore errors to keep it short\n",
    "    return df\n",
    "\n",
    "list_of_dfs = [df_topic, df_qrel, df_document, df_vorkommen]\n",
    "optimized_list = [optimize_df_types(df) for df in list_of_dfs]\n",
    "\n",
    "print(\"Done\")"
   ]
  },
  {
   "cell_type": "code",
   "execution_count": 9,
   "id": "652fa180-ec3f-4aa0-94ec-2b56bdb3eebe",
   "metadata": {},
   "outputs": [
    {
     "name": "stdout",
     "output_type": "stream",
     "text": [
      "          docid  Anzahl_Vorkommen\n",
      "0             1                 1\n",
      "1            10                14\n",
      "2           100                 4\n",
      "3          1000                14\n",
      "4         10000                 2\n",
      "...         ...               ...\n",
      "3550129  999995                 2\n",
      "3550130  999996                 6\n",
      "3550131  999997                 6\n",
      "3550132  999998                 4\n",
      "3550133  999999                 3\n",
      "\n",
      "[3550134 rows x 2 columns]\n"
     ]
    }
   ],
   "source": [
    "\n",
    "# und die Spalte mit den IDs heißt 'docid':\n",
    "\n",
    "# Entferne das Präfix \"doc\" aus der 'docid'-Spalte\n",
    "df_vorkommen['docid'] = df_vorkommen['docid'].str.replace(r'^doc', '', regex=True)\n",
    "\n",
    "\n",
    "\n",
    "# Kontrolle\n",
    "print(df_vorkommen)\n"
   ]
  },
  {
   "cell_type": "code",
   "execution_count": 10,
   "id": "94ca2f59-3048-4daf-9aee-dc26dafb8e9e",
   "metadata": {},
   "outputs": [
    {
     "name": "stdout",
     "output_type": "stream",
     "text": [
      "Einzigartige qid in bm_df: 12865\n"
     ]
    }
   ],
   "source": [
    "# Stelle sicher, dass beide Spalten vom selben Typ sind\n",
    "bm_df['qid'] = bm_df['qid'].astype(str)\n",
    "df_topic['quer_id'] = df_topic['quer_id'].astype(str)\n",
    "\n",
    "print(\"Einzigartige qid in bm_df:\", bm_df['qid'].nunique())\n"
   ]
  },
  {
   "cell_type": "code",
   "execution_count": 11,
   "id": "d72f7010-d785-4380-989d-65dd953f94e8",
   "metadata": {},
   "outputs": [
    {
     "name": "stdout",
     "output_type": "stream",
     "text": [
      "Einzigartige quer_id in df_qrel: 0\n",
      "Einzigartige qid in bm_df: 12865\n"
     ]
    }
   ],
   "source": [
    "# Anzahl eindeutiger Queries in den Qrels\n",
    "num_qrels = df_qrel['quer_id'].nunique()\n",
    "print(f\"Einzigartige quer_id in df_qrel: {num_qrels}\")\n",
    "\n",
    "# Anzahl eindeutiger Queries im BM25-Run\n",
    "num_bm = bm_df['qid'].nunique()\n",
    "print(f\"Einzigartige qid in bm_df: {num_bm}\")"
   ]
  },
  {
   "cell_type": "code",
   "execution_count": 12,
   "id": "4fe3a7ac-d8a8-43fc-a01e-4792dab79180",
   "metadata": {},
   "outputs": [
    {
     "name": "stdout",
     "output_type": "stream",
     "text": [
      "                                          id  queryid  text_en  \\\n",
      "140953  2d94cea6-46d6-4bd1-9ffa-b7438e9606ba        3      NaN   \n",
      "140954  69ebeb31-3145-4e87-bad6-08eaa9c98aa8        8      NaN   \n",
      "140955  a171dea6-6bb0-4bd4-8ace-6a5d26acc29c       12      NaN   \n",
      "140956  38f184da-fe08-4b2f-87a9-365d91dca836       18      NaN   \n",
      "140957  986b4402-e516-4868-bf61-67e82a277f61       19      NaN   \n",
      "...                                      ...      ...      ...   \n",
      "153886  4a862cb1-1e72-4aac-a9da-d327eb050ebb    75421      NaN   \n",
      "153887  53700ef9-a867-45bb-809c-967973f9e68a    75422      NaN   \n",
      "153888  2d667e52-bbfd-486d-8647-19a2d40f1251    75423      NaN   \n",
      "153889  97e0a5eb-c4ca-4123-a73a-ab116afa58b4    75424      NaN   \n",
      "153890  e771d467-7848-4692-810a-220efc4fc4ee    75425      NaN   \n",
      "\n",
      "                                       query sub_collection split  tag  \n",
      "140953                  1ere guerre mondiale        2023-08  test  0.2  \n",
      "140954              4 mariages 1 enterrement        2023-08  test  0.2  \n",
      "140955                          abri voiture        2023-08  test  0.2  \n",
      "140956              acheter voiture occasion        2023-08  test  0.2  \n",
      "140957                activ crea pole emploi        2023-08  test  0.8  \n",
      "...                                      ...            ...   ...  ...  \n",
      "153886         domaine de chaumont-sur-loire        2023-08  test  0.2  \n",
      "153887  restaurant l'ile issy-les-moulineaux        2023-08  test  0.2  \n",
      "153888                      cateau-cambresis        2023-08  test  0.2  \n",
      "153889                    filet anti-oiseaux        2023-08  test  0.2  \n",
      "153890                     petit chauffe-eau        2023-08  test  0.1  \n",
      "\n",
      "[12938 rows x 7 columns]\n",
      "            qid    docno  rank      score       name\n",
      "0             3   684186     0  25.872507  pyterrier\n",
      "1             3  2911357     1  25.872507  pyterrier\n",
      "2             3  1686452     2  25.678217  pyterrier\n",
      "3             3   430968     3  25.430487  pyterrier\n",
      "4             3   658038     4  25.393303  pyterrier\n",
      "...         ...      ...   ...        ...        ...\n",
      "12583460  75425  1737432   995  18.909800  pyterrier\n",
      "12583461  75425  1739913   996  18.909800  pyterrier\n",
      "12583462  75425  3088634   997  18.909800  pyterrier\n",
      "12583463  75425  2983643   998  18.909800  pyterrier\n",
      "12583464  75425  2981689   999  18.909800  pyterrier\n",
      "\n",
      "[12583465 rows x 5 columns]\n",
      "Anzahl einzigartiger queryid in sub_collection 2023-01: 12938\n"
     ]
    }
   ],
   "source": [
    "Time_Tags = pd.read_csv('Expanded/Topics_With_TimeTags.csv')\n",
    "\n",
    "# Nur Einträge mit '2023-01' in der Spalte 'sub_collection'\n",
    "Time_Tags_202301 = Time_Tags[Time_Tags['sub_collection'] == '2023-08'].copy()\n",
    "print(Time_Tags_202301)\n",
    "print(bm_df)\n",
    "unique_queryids = Time_Tags_202301['queryid'].nunique()\n",
    "\n",
    "print(f\"Anzahl einzigartiger queryid in sub_collection 2023-01: {unique_queryids}\")"
   ]
  },
  {
   "cell_type": "code",
   "execution_count": 13,
   "id": "de372bcb-1a19-4e5c-b00b-af69c187f2ca",
   "metadata": {},
   "outputs": [
    {
     "name": "stdout",
     "output_type": "stream",
     "text": [
      "            qid    docno  rank      score       name  \\\n",
      "0             3   684186     0  25.872507  pyterrier   \n",
      "1             3  2911357     1  25.872507  pyterrier   \n",
      "2             3  1686452     2  25.678217  pyterrier   \n",
      "3             3   430968     3  25.430487  pyterrier   \n",
      "4             3   658038     4  25.393303  pyterrier   \n",
      "...         ...      ...   ...        ...        ...   \n",
      "12583460  75425  1737432   995  18.909800  pyterrier   \n",
      "12583461  75425  1739913   996  18.909800  pyterrier   \n",
      "12583462  75425  3088634   997  18.909800  pyterrier   \n",
      "12583463  75425  2983643   998  18.909800  pyterrier   \n",
      "12583464  75425  2981689   999  18.909800  pyterrier   \n",
      "\n",
      "                                            id queryid  text_en  \\\n",
      "0         2d94cea6-46d6-4bd1-9ffa-b7438e9606ba       3      NaN   \n",
      "1         2d94cea6-46d6-4bd1-9ffa-b7438e9606ba       3      NaN   \n",
      "2         2d94cea6-46d6-4bd1-9ffa-b7438e9606ba       3      NaN   \n",
      "3         2d94cea6-46d6-4bd1-9ffa-b7438e9606ba       3      NaN   \n",
      "4         2d94cea6-46d6-4bd1-9ffa-b7438e9606ba       3      NaN   \n",
      "...                                        ...     ...      ...   \n",
      "12583460  e771d467-7848-4692-810a-220efc4fc4ee   75425      NaN   \n",
      "12583461  e771d467-7848-4692-810a-220efc4fc4ee   75425      NaN   \n",
      "12583462  e771d467-7848-4692-810a-220efc4fc4ee   75425      NaN   \n",
      "12583463  e771d467-7848-4692-810a-220efc4fc4ee   75425      NaN   \n",
      "12583464  e771d467-7848-4692-810a-220efc4fc4ee   75425      NaN   \n",
      "\n",
      "                         query sub_collection split  tag  \n",
      "0         1ere guerre mondiale        2023-08  test  0.2  \n",
      "1         1ere guerre mondiale        2023-08  test  0.2  \n",
      "2         1ere guerre mondiale        2023-08  test  0.2  \n",
      "3         1ere guerre mondiale        2023-08  test  0.2  \n",
      "4         1ere guerre mondiale        2023-08  test  0.2  \n",
      "...                        ...            ...   ...  ...  \n",
      "12583460     petit chauffe-eau        2023-08  test  0.1  \n",
      "12583461     petit chauffe-eau        2023-08  test  0.1  \n",
      "12583462     petit chauffe-eau        2023-08  test  0.1  \n",
      "12583463     petit chauffe-eau        2023-08  test  0.1  \n",
      "12583464     petit chauffe-eau        2023-08  test  0.1  \n",
      "\n",
      "[12583465 rows x 12 columns]\n",
      "           qid    docno  rank      score       name  \\\n",
      "9580274  69568   715759   316  19.945721  pyterrier   \n",
      "9580275  69568  1683632   317  19.936464  pyterrier   \n",
      "9580276  69568  2313926   318  19.924807  pyterrier   \n",
      "9580277  69568  3101147   319  19.905371  pyterrier   \n",
      "9580278  69568  3097020   320  19.878969  pyterrier   \n",
      "...        ...      ...   ...        ...        ...   \n",
      "1034597   2080  1952197     7  24.562159  pyterrier   \n",
      "1034598   2080   592717     8  24.427998  pyterrier   \n",
      "1034599   2080  1773974     9  22.105053  pyterrier   \n",
      "1034600   2080   223677    10  21.669476  pyterrier   \n",
      "1034601   2080  1950120    11  21.433537  pyterrier   \n",
      "\n",
      "                                           id queryid  text_en  \\\n",
      "9580274  54a1a010-84a7-4ae8-bc5a-e85b61f1b1c0   69568      NaN   \n",
      "9580275  54a1a010-84a7-4ae8-bc5a-e85b61f1b1c0   69568      NaN   \n",
      "9580276  54a1a010-84a7-4ae8-bc5a-e85b61f1b1c0   69568      NaN   \n",
      "9580277  54a1a010-84a7-4ae8-bc5a-e85b61f1b1c0   69568      NaN   \n",
      "9580278  54a1a010-84a7-4ae8-bc5a-e85b61f1b1c0   69568      NaN   \n",
      "...                                       ...     ...      ...   \n",
      "1034597  a52aaa7f-7f27-496c-86b4-891fc2a43ed0    2080      NaN   \n",
      "1034598  a52aaa7f-7f27-496c-86b4-891fc2a43ed0    2080      NaN   \n",
      "1034599  a52aaa7f-7f27-496c-86b4-891fc2a43ed0    2080      NaN   \n",
      "1034600  a52aaa7f-7f27-496c-86b4-891fc2a43ed0    2080      NaN   \n",
      "1034601  a52aaa7f-7f27-496c-86b4-891fc2a43ed0    2080      NaN   \n",
      "\n",
      "                               query sub_collection split  tag  \n",
      "9580274  horoscope taureau aout 2023        2023-08  test  1.0  \n",
      "9580275  horoscope taureau aout 2023        2023-08  test  1.0  \n",
      "9580276  horoscope taureau aout 2023        2023-08  test  1.0  \n",
      "9580277  horoscope taureau aout 2023        2023-08  test  1.0  \n",
      "9580278  horoscope taureau aout 2023        2023-08  test  1.0  \n",
      "...                              ...            ...   ...  ...  \n",
      "1034597          nevralgie trijumeau        2023-08  test  0.0  \n",
      "1034598          nevralgie trijumeau        2023-08  test  0.0  \n",
      "1034599          nevralgie trijumeau        2023-08  test  0.0  \n",
      "1034600          nevralgie trijumeau        2023-08  test  0.0  \n",
      "1034601          nevralgie trijumeau        2023-08  test  0.0  \n",
      "\n",
      "[12583465 rows x 12 columns]\n"
     ]
    }
   ],
   "source": [
    "bm_df['qid'] = bm_df['qid'].astype(str)\n",
    "Time_Tags_202301['queryid'] = Time_Tags_202301['queryid'].astype(str)\n",
    "\n",
    "Final_df = pd.merge(\n",
    "    bm_df,\n",
    "    Time_Tags_202301,\n",
    "    left_on=\"qid\",\n",
    "    right_on=\"queryid\",\n",
    "    how=\"inner\"\n",
    ")\n",
    "print(Final_df)\n",
    "# Ausgabe von Final_df sortiert nach der Spalte 'tag' (absteigend)\n",
    "print(Final_df.sort_values(by='tag', ascending=False))\n"
   ]
  },
  {
   "cell_type": "code",
   "execution_count": 14,
   "id": "06fc25eb-b71b-4102-8e3b-598066b65121",
   "metadata": {},
   "outputs": [
    {
     "name": "stdout",
     "output_type": "stream",
     "text": [
      "            qid    docno  rank      score       name  \\\n",
      "6732125   53061  3546151   249  15.098617  pyterrier   \n",
      "7066092   56276  3542556     2  28.186865  pyterrier   \n",
      "1963181    4087  3544074   345  18.575901  pyterrier   \n",
      "7065864   56261  3549959   774   7.569582  pyterrier   \n",
      "7065833   56261  3543770   743   7.578224  pyterrier   \n",
      "...         ...      ...   ...        ...        ...   \n",
      "9947279   69984    34794   333  13.421473  pyterrier   \n",
      "4401389   35765  3173607   409  10.427013  pyterrier   \n",
      "8169903   66546  3173607   367   7.783942  pyterrier   \n",
      "10755497  70930  3173607   407  10.097882  pyterrier   \n",
      "10885487  71074  3173607   706  14.504642  pyterrier   \n",
      "\n",
      "                                            id queryid  text_en  \\\n",
      "6732125   c821bbf2-a515-4f22-8e66-fce774a6c574   53061      NaN   \n",
      "7066092   214f10f6-f879-4bd5-9bad-54f99a22cd7a   56276      NaN   \n",
      "1963181   56639cf9-f126-420a-94fc-4f56d1c34fe5    4087      NaN   \n",
      "7065864   873bfb1c-9077-4a25-aabc-feeb1c246c85   56261      NaN   \n",
      "7065833   873bfb1c-9077-4a25-aabc-feeb1c246c85   56261      NaN   \n",
      "...                                        ...     ...      ...   \n",
      "9947279   8b7774fc-eb60-481c-90db-7b90c2dc1123   69984      NaN   \n",
      "4401389   32c0c62e-bca8-4db9-aece-a25966eabd49   35765      NaN   \n",
      "8169903   c18c5e0f-c507-48dd-8a97-d1bd227dfce5   66546      NaN   \n",
      "10755497  ec39a6b4-96cc-4925-995e-bf040c38bb2c   70930      NaN   \n",
      "10885487  fc9eb415-c0e2-4c73-8cf0-c0e2f4e8741d   71074      NaN   \n",
      "\n",
      "                                  query sub_collection split  tag  \\\n",
      "6732125            chateau de peyrelade        2023-08  test  0.2   \n",
      "7066092                 pied de poteaux        2023-08  test  0.2   \n",
      "1963181         epaule d'agneau au four        2023-08  test  0.2   \n",
      "7065864                 loi probabilite        2023-08  test  0.1   \n",
      "7065833                 loi probabilite        2023-08  test  0.1   \n",
      "...                                 ...            ...   ...  ...   \n",
      "9947279          centre beaubourg paris        2023-08  test  0.2   \n",
      "4401389               salope en voiture        2023-08  test  0.1   \n",
      "8169903                visite cointreau        2023-08  test  0.2   \n",
      "10755497                 salope voiture        2023-08  test  0.1   \n",
      "10885487  carte de visite bureau vallee        2023-08  test  0.2   \n",
      "\n",
      "          Anzahl_Vorkommen  \n",
      "6732125                  1  \n",
      "7066092                  1  \n",
      "1963181                  1  \n",
      "7065864                  1  \n",
      "7065833                  1  \n",
      "...                    ...  \n",
      "9947279                155  \n",
      "4401389                351  \n",
      "8169903                351  \n",
      "10755497               351  \n",
      "10885487               351  \n",
      "\n",
      "[12583465 rows x 13 columns]\n"
     ]
    }
   ],
   "source": [
    "import pandas as pd\n",
    "\n",
    "# 1. Spalte in df_vorkommen umbenennen\n",
    "df_vorkommen_renamed = df_vorkommen.rename(columns={'docid': 'docno'})\n",
    "\n",
    "# 2. Merge und direkt in Final_df zurückschreiben\n",
    "Final_df = pd.merge(\n",
    "    Final_df,\n",
    "    df_vorkommen_renamed,\n",
    "    on='docno',\n",
    "    how='left'   # behält alle Zeilen aus Final_df bei\n",
    ")\n",
    "\n",
    "# 3. Kontrolle\n",
    "# Ausgabe von Final_df sortiert nach der Spalte 'Anzahl_Vorkommen' (absteigend)\n",
    "print(Final_df.sort_values(by='Anzahl_Vorkommen', ascending=True))\n",
    "\n"
   ]
  },
  {
   "cell_type": "code",
   "execution_count": 15,
   "id": "33dff10d-de66-49c0-b126-656357ba3d2e",
   "metadata": {},
   "outputs": [
    {
     "name": "stdout",
     "output_type": "stream",
     "text": [
      "qid                   object\n",
      "docno                 object\n",
      "rank                   int16\n",
      "score                float32\n",
      "name                category\n",
      "id                    object\n",
      "queryid               object\n",
      "text_en              float64\n",
      "query                 object\n",
      "sub_collection        object\n",
      "split                 object\n",
      "tag                  float64\n",
      "Anzahl_Vorkommen       int16\n",
      "dtype: object\n",
      "<class 'pandas.core.frame.DataFrame'>\n",
      "RangeIndex: 12583465 entries, 0 to 12583464\n",
      "Data columns (total 13 columns):\n",
      " #   Column            Dtype   \n",
      "---  ------            -----   \n",
      " 0   qid               object  \n",
      " 1   docno             object  \n",
      " 2   rank              int16   \n",
      " 3   score             float32 \n",
      " 4   name              category\n",
      " 5   id                object  \n",
      " 6   queryid           object  \n",
      " 7   text_en           float64 \n",
      " 8   query             object  \n",
      " 9   sub_collection    object  \n",
      " 10  split             object  \n",
      " 11  tag               float64 \n",
      " 12  Anzahl_Vorkommen  int16   \n",
      "dtypes: category(1), float32(1), float64(2), int16(2), object(7)\n",
      "memory usage: 972.0+ MB\n"
     ]
    }
   ],
   "source": [
    "# Zeige Datentypen aller Spalten in einem DataFrame, z.B. Final_df\n",
    "print(Final_df.dtypes)\n",
    "\n",
    "# Alternativ: ausführliche Übersicht mit info()\n",
    "Final_df.info()\n"
   ]
  },
  {
   "cell_type": "code",
   "execution_count": 16,
   "id": "6b444dc7-a9d5-454a-8c86-8884c33ab77f",
   "metadata": {},
   "outputs": [
    {
     "name": "stdout",
     "output_type": "stream",
     "text": [
      "       qid    docno  rank       name                                    id  \\\n",
      "45072  100  1694624     0  pyterrier  1f263fef-7237-4e9a-ba6b-4c42813439d1   \n",
      "45073  100  2971472     1  pyterrier  1f263fef-7237-4e9a-ba6b-4c42813439d1   \n",
      "45075  100  2945156     3  pyterrier  1f263fef-7237-4e9a-ba6b-4c42813439d1   \n",
      "45076  100  3071601     4  pyterrier  1f263fef-7237-4e9a-ba6b-4c42813439d1   \n",
      "45074  100   143632     2  pyterrier  1f263fef-7237-4e9a-ba6b-4c42813439d1   \n",
      "\n",
      "      queryid  text_en              query sub_collection split  tag  \\\n",
      "45072     100      NaN  appli pole emploi        2023-08  test  0.2   \n",
      "45073     100      NaN  appli pole emploi        2023-08  test  0.2   \n",
      "45075     100      NaN  appli pole emploi        2023-08  test  0.2   \n",
      "45076     100      NaN  appli pole emploi        2023-08  test  0.2   \n",
      "45074     100      NaN  appli pole emploi        2023-08  test  0.2   \n",
      "\n",
      "       Anzahl_Vorkommen  rerank_score  \n",
      "45072                 5     28.277011  \n",
      "45073                 9     26.165474  \n",
      "45075                 9     26.165474  \n",
      "45076                 9     26.165474  \n",
      "45074                15     26.157930  \n"
     ]
    }
   ],
   "source": [
    "# 1) Cappe 'Anzahl_Vorkommen' auf maximal 15(wegen extremer ausreißer, für die Normalisierung)\n",
    "Final_df['Anzahl_Vorkommen'] = Final_df['Anzahl_Vorkommen'].clip(upper=15)\n",
    "\n",
    "# 2) Recency-Feature neu berechnen\n",
    "import numpy as np\n",
    "Final_df['recency'] = 1 / (1 + np.log1p(Final_df['Anzahl_Vorkommen']))\n",
    "\n",
    "# 3) Additiver, getaggter Bonus wie gehabt\n",
    "lam = 1.0\n",
    "Final_df['rerank_score'] = Final_df['score'] + lam * Final_df['tag'] * Final_df['recency']\n",
    "\n",
    "# 4) Alte Spalten aufräumen\n",
    "Final_df = Final_df.drop(columns=['score', 'recency'])\n",
    "\n",
    "# 5) Optional sortieren\n",
    "Final_df = Final_df.sort_values(['qid','rerank_score'], ascending=[True,False])\n",
    "\n",
    "print(Final_df.head())\n",
    "\n",
    "\n"
   ]
  },
  {
   "cell_type": "code",
   "execution_count": null,
   "id": "974b7321-0146-48cf-9424-3dd037c30ae6",
   "metadata": {},
   "outputs": [],
   "source": [
    "\n"
   ]
  },
  {
   "cell_type": "code",
   "execution_count": 17,
   "id": "e5ed37c5-2cbf-4bb7-89c0-747cf5d10f55",
   "metadata": {},
   "outputs": [
    {
     "name": "stdout",
     "output_type": "stream",
     "text": [
      "Head of Final_df_for_evaluation:\n",
      "        qid    docno      score\n",
      "45072   100  1694624  28.277011\n",
      "45073   100  2971472  26.165474\n",
      "45075   100  2945156  26.165474\n",
      "45076   100  3071601  26.165474\n",
      "45074   100   143632  26.157930\n",
      "...     ...      ...        ...\n",
      "506470  996   960455   8.297803\n",
      "506473  996   377417   8.296544\n",
      "506474  996   401194   8.296544\n",
      "506481  996   394087   8.295952\n",
      "506484  996   546050   8.295305\n",
      "\n",
      "[12583465 rows x 3 columns]\n",
      "\n",
      "Head of df_qrel:\n",
      "Empty DataFrame\n",
      "Columns: [relevance, qid, docno]\n",
      "Index: []\n"
     ]
    }
   ],
   "source": [
    "#---Evaluation Vorbereitung---\n",
    "\n",
    "# 1. Run-DF: qid, docno, rerank_score → score\n",
    "Final_df_for_evaluation = (\n",
    "    Final_df[['qid', 'docno', 'rerank_score']]\n",
    "    .rename(columns={'rerank_score': 'score'})\n",
    "    .copy()\n",
    ")\n",
    "Final_df_for_evaluation['qid']   = Final_df_for_evaluation['qid'].astype(str)\n",
    "Final_df_for_evaluation['docno'] = Final_df_for_evaluation['docno'].astype(str)\n",
    "Final_df_for_evaluation['score'] = Final_df_for_evaluation['score'].astype(float)\n",
    "\n",
    "# 2. Qrels-DF: doc_id → docno, quer_id → qid  (Spalte 'label' bleibt erhalten)\n",
    "df_qrel = df_qrel.rename(columns={'doc_id': 'docno', 'quer_id': 'qid'})\n",
    "df_qrel['docno'] = df_qrel['docno'].astype(str).str.replace('doc', '', regex=False)\n",
    "df_qrel['qid']   = df_qrel['qid'].astype(str)\n",
    "# keine Ausschmückung von 'label' nötig, solange sie schon int ist\n",
    "\n",
    "# 3. Kontrolle\n",
    "print(\"Head of Final_df_for_evaluation:\")\n",
    "print(Final_df_for_evaluation)\n",
    "\n",
    "print(\"\\nHead of df_qrel:\")\n",
    "print(df_qrel)\n"
   ]
  },
  {
   "cell_type": "code",
   "execution_count": 18,
   "id": "6a40558f-a702-4bd0-b928-ed93c6ec065b",
   "metadata": {},
   "outputs": [
    {
     "name": "stdout",
     "output_type": "stream",
     "text": [
      "Evaluationsergebnisse (Durchschnitt über alle Queries):\n",
      "map: nan\n",
      "ndcg_cut_10: nan\n",
      "recall_100: nan\n"
     ]
    }
   ],
   "source": [
    "import pyterrier as pt\n",
    "\n",
    "# 1. (Java läuft schon – kein erneutes pt.init())\n",
    "\n",
    "# 2. Spalten in df_qrel umbenennen und typisieren\n",
    "df_qrel = df_qrel.rename(columns={\n",
    "    'quer_id':   'qid',\n",
    "    'doc_id':    'docno',\n",
    "    'relevance': 'label'\n",
    "})\n",
    "\n",
    "# Achte darauf, dass label nur ganze Zahlen enthält!\n",
    "# Falls du Strings hast, etwa '1.0' oder '2.0', wandle sie vorher um:\n",
    "df_qrel['label'] = df_qrel['label'].astype(float).astype(int)\n",
    "\n",
    "df_qrel['qid']   = df_qrel['qid'].astype(str)\n",
    "df_qrel['docno'] = df_qrel['docno'].astype(str)\n",
    "\n",
    "# 3. Dein Run-DF vorbereiten\n",
    "Final_df_for_evaluation = Final_df[['qid', 'docno', 'rerank_score']].rename(\n",
    "    columns={'rerank_score': 'score'}\n",
    ").copy()\n",
    "Final_df_for_evaluation['qid']   = Final_df_for_evaluation['qid'].astype(str)\n",
    "Final_df_for_evaluation['docno'] = Final_df_for_evaluation['docno'].astype(str)\n",
    "Final_df_for_evaluation['score'] = Final_df_for_evaluation['score'].astype(float)\n",
    "\n",
    "# 4. Evaluation durchführen\n",
    "results = pt.Evaluate(\n",
    "    res   = Final_df_for_evaluation,\n",
    "    qrels = df_qrel,\n",
    "    metrics = [\"map\", \"ndcg_cut_10\", \"recall_100\"],\n",
    "  \n",
    " \n",
    ")\n",
    "\n",
    "\n",
    "\n",
    "# 5. Ausgabe\n",
    "print(\"Evaluationsergebnisse (Durchschnitt über alle Queries):\")\n",
    "for metric, value in results.items():\n",
    "    print(f\"{metric}: {value:.4f}\")\n",
    "\n"
   ]
  },
  {
   "cell_type": "code",
   "execution_count": 19,
   "id": "82c9fca5-56f3-4ac5-9e2b-232ca56f6c07",
   "metadata": {},
   "outputs": [
    {
     "name": "stdout",
     "output_type": "stream",
     "text": [
      "Run-Datei geschrieben als trec_run_file.run mit Top 1000-Ergebnissen je Query\n"
     ]
    }
   ],
   "source": [
    "run_name = 'tag'\n",
    "\n",
    "# 1) Ranking pro Query-ID (qid) berechnen\n",
    "Final_df['rank'] = (\n",
    "    Final_df\n",
    "      .sort_values(['qid', 'rerank_score'], ascending=[True, False])\n",
    "      .groupby('qid')\n",
    "      .cumcount() + 1\n",
    ")\n",
    "\n",
    "# 2) Nur die benötigten Spalten auswählen und in richtiger Reihenfolge\n",
    "run_df = Final_df[['qid', 'docno', 'rank', 'rerank_score']].copy()\n",
    "run_df['Q0']      = 'Q0'\n",
    "run_df['run_name']= run_name\n",
    "\n",
    "# Optional: Spalte für die TREC-Ausgabe wirklich 'query' nennen\n",
    "run_df = run_df.rename(columns={'qid':'query'})\n",
    "\n",
    "run_df = run_df[['query', 'Q0', 'docno', 'rank', 'rerank_score', 'run_name']]\n",
    "\n",
    "# Hier cap auf Top 1000\n",
    "max_rank = 1000\n",
    "run_df = run_df[run_df['rank'] <= max_rank]\n",
    "\n",
    "# 3) Als Textdatei exportieren – keine Header, kein Index\n",
    "run_df.to_csv('trec_run_2023-08.run', sep=' ', header=False, index=False)\n",
    "\n",
    "print(f\"Run-Datei geschrieben als trec_run_file.run mit Top {max_rank}-Ergebnissen je Query\")"
   ]
  }
 ],
 "metadata": {
  "kernelspec": {
   "display_name": "Python 3 (ipykernel)",
   "language": "python",
   "name": "python3"
  },
  "language_info": {
   "codemirror_mode": {
    "name": "ipython",
    "version": 3
   },
   "file_extension": ".py",
   "mimetype": "text/x-python",
   "name": "python",
   "nbconvert_exporter": "python",
   "pygments_lexer": "ipython3",
   "version": "3.11.6"
  }
 },
 "nbformat": 4,
 "nbformat_minor": 5
}
